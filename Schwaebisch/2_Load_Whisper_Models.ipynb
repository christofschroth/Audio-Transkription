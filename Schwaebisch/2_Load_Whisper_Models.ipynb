{
 "cells": [
  {
   "cell_type": "markdown",
   "id": "0aa1581e-b230-402d-b6f9-e3c42787ecba",
   "metadata": {},
   "source": [
    "# Whisper ralada\n",
    "\n",
    "Mit dem Code dåhanna werdat oemalig dia Whisper-Modelle raglada. Drnåch kå de aegentliche Transkriptio offline (ohne Internet) ausgführt wera.\n",
    "\n",
    "<div class=\"alert alert-block alert-info\"> <b>Hinweis:</b> \n",
    "    \n",
    "    - Stellat Se sicher, dass dr Rechner mit am Internet verbonda ischd. \n",
    "\n",
    "</div>"
   ]
  },
  {
   "cell_type": "code",
   "execution_count": 2,
   "id": "e6b986ac-5baa-403f-832b-03adf2eb39a2",
   "metadata": {},
   "outputs": [],
   "source": [
    "import whisper\n",
    "import warnings\n",
    "warnings.simplefilter(action='ignore', category=Warning)"
   ]
  },
  {
   "cell_type": "code",
   "execution_count": 3,
   "id": "a768cb6c-7560-45f5-9c52-68bab32bb040",
   "metadata": {},
   "outputs": [],
   "source": [
    "whisper_model = whisper.load_model('tiny')"
   ]
  },
  {
   "cell_type": "code",
   "execution_count": 4,
   "id": "8c0ba988-c34c-4350-9c28-92663eb74b36",
   "metadata": {},
   "outputs": [],
   "source": [
    "whisper_model = whisper.load_model('base')"
   ]
  },
  {
   "cell_type": "code",
   "execution_count": 5,
   "id": "ff289959-5fdc-46ca-bb4f-25636ae4d30b",
   "metadata": {},
   "outputs": [
    {
     "name": "stderr",
     "output_type": "stream",
     "text": [
      "100%|███████████████████████████████████████| 461M/461M [01:55<00:00, 4.19MiB/s]\n"
     ]
    }
   ],
   "source": [
    "whisper_model = whisper.load_model('small')"
   ]
  },
  {
   "cell_type": "code",
   "execution_count": 5,
   "id": "56467310-5992-446f-bf9c-e9795ed5e4be",
   "metadata": {},
   "outputs": [
    {
     "name": "stderr",
     "output_type": "stream",
     "text": [
      "100%|███████████████████████████████████████| 461M/461M [01:55<00:00, 4.19MiB/s]\n"
     ]
    }
   ],
   "source": [
    "whisper_model = whisper.load_model('small.en')"
   ]
  },
  {
   "cell_type": "code",
   "execution_count": 6,
   "id": "33655411-23ee-44d7-a02e-9d030c94c7cc",
   "metadata": {},
   "outputs": [
    {
     "name": "stderr",
     "output_type": "stream",
     "text": [
      "100%|█████████████████████████████████████| 1.42G/1.42G [05:17<00:00, 4.81MiB/s]\n"
     ]
    }
   ],
   "source": [
    "whisper_model = whisper.load_model('medium')"
   ]
  },
  {
   "cell_type": "code",
   "execution_count": null,
   "id": "c31b091a-5b98-45f7-939c-70fd35d251f0",
   "metadata": {},
   "outputs": [
    {
     "name": "stderr",
     "output_type": "stream",
     "text": [
      "100%|█████████████████████████████████████| 1.42G/1.42G [05:21<00:00, 4.75MiB/s]\n"
     ]
    }
   ],
   "source": [
    "whisper_model = whisper.load_model('medium.en') # speziell für Englisch"
   ]
  },
  {
   "cell_type": "markdown",
   "id": "7ec023fd-6276-4f18-beaa-ca6eb0f3c14a",
   "metadata": {},
   "source": [
    "<div class=\"alert alert-block alert-warning\"> <b>Obacht:</b> \n",
    "    \n",
    "Wann Se bloß 8GB Arbaetsspeicher hent, wird dr folgende Befehl an Fehler liefera:\n",
    "\n",
    "</div>"
   ]
  },
  {
   "cell_type": "code",
   "execution_count": 7,
   "id": "ec0a57d2-1d17-4f73-82ae-55caec4b8c03",
   "metadata": {},
   "outputs": [],
   "source": [
    "whisper_model = whisper.load_model('large')"
   ]
  },
  {
   "cell_type": "markdown",
   "id": "b9db7e6d-c856-4c48-a4a7-f316c50c083e",
   "metadata": {},
   "source": [
    "<div class=\"alert alert-block alert-info\"> <b>Hinweis:</b> \n",
    "    \n",
    "Se fendat de ragladene Modelle bei Windows 11 standardmäßig onter \n",
    "\n",
    "C:\\Users\\\\<BENUTZERNAME>\\.cache\\whisper\\,\n",
    "\n",
    "eventuell nemmat de graeßere Modelle onaedig Speicherplatz weg ond mr kå s nå dert händisch löscha.\n",
    "\n",
    "Dass mr den Ordner oba seha kå, muaß mr s so aestella, dass r `Versteckte Ordner` åzaegt.\n",
    "\n",
    "</div>"
   ]
  },
  {
   "cell_type": "code",
   "execution_count": null,
   "id": "70334955-41e5-4b3a-b7fd-a46f9e2f8580",
   "metadata": {},
   "outputs": [],
   "source": []
  },
  {
   "cell_type": "code",
   "execution_count": null,
   "id": "f0ec1a7c-5537-4f5d-8d5f-fa76ac285d64",
   "metadata": {},
   "outputs": [],
   "source": []
  }
 ],
 "metadata": {
  "kernelspec": {
   "display_name": "Python 3 (ipykernel)",
   "language": "python",
   "name": "python3"
  },
  "language_info": {
   "codemirror_mode": {
    "name": "ipython",
    "version": 3
   },
   "file_extension": ".py",
   "mimetype": "text/x-python",
   "name": "python",
   "nbconvert_exporter": "python",
   "pygments_lexer": "ipython3",
   "version": "3.12.7"
  }
 },
 "nbformat": 4,
 "nbformat_minor": 5
}

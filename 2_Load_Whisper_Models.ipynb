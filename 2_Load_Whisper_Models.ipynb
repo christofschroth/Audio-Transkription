{
 "cells": [
  {
   "cell_type": "markdown",
   "id": "0aa1581e-b230-402d-b6f9-e3c42787ecba",
   "metadata": {},
   "source": [
    "# Whisper herunterladen\n",
    "\n",
    "Mit diesem Code werden einmalig die Whisper-Modelle heruntergeladen. Danach kann die Transkription offline durchgeführt werden.\n",
    "\n",
    "<div class=\"alert alert-block alert-info\"> <b>Hinweis:</b> \n",
    "    \n",
    "    - Stelle sicher, dass der Rechner mit dem Internet verbunden ist. \n",
    "\n",
    "</div>"
   ]
  },
  {
   "cell_type": "code",
   "execution_count": 1,
   "id": "e6b986ac-5baa-403f-832b-03adf2eb39a2",
   "metadata": {},
   "outputs": [],
   "source": [
    "import whisper\n",
    "import warnings\n",
    "warnings.simplefilter(action='ignore', category=Warning)"
   ]
  },
  {
   "cell_type": "code",
   "execution_count": 2,
   "id": "a768cb6c-7560-45f5-9c52-68bab32bb040",
   "metadata": {},
   "outputs": [],
   "source": [
    "whisper_model = whisper.load_model('tiny')"
   ]
  },
  {
   "cell_type": "code",
   "execution_count": 3,
   "id": "8c0ba988-c34c-4350-9c28-92663eb74b36",
   "metadata": {},
   "outputs": [],
   "source": [
    "whisper_model = whisper.load_model('base')"
   ]
  },
  {
   "cell_type": "code",
   "execution_count": 4,
   "id": "ff289959-5fdc-46ca-bb4f-25636ae4d30b",
   "metadata": {},
   "outputs": [],
   "source": [
    "whisper_model = whisper.load_model('small')"
   ]
  },
  {
   "cell_type": "code",
   "execution_count": 5,
   "id": "33655411-23ee-44d7-a02e-9d030c94c7cc",
   "metadata": {},
   "outputs": [],
   "source": [
    "whisper_model = whisper.load_model('medium')"
   ]
  },
  {
   "cell_type": "code",
   "execution_count": 6,
   "id": "ec0a57d2-1d17-4f73-82ae-55caec4b8c03",
   "metadata": {},
   "outputs": [],
   "source": [
    "whisper_model = whisper.load_model('large')"
   ]
  },
  {
   "cell_type": "code",
   "execution_count": null,
   "id": "c0903f28-63f7-431c-9074-1e2954c6d6e6",
   "metadata": {},
   "outputs": [],
   "source": []
  }
 ],
 "metadata": {
  "kernelspec": {
   "display_name": "Python 3 (ipykernel)",
   "language": "python",
   "name": "python3"
  },
  "language_info": {
   "codemirror_mode": {
    "name": "ipython",
    "version": 3
   },
   "file_extension": ".py",
   "mimetype": "text/x-python",
   "name": "python",
   "nbconvert_exporter": "python",
   "pygments_lexer": "ipython3",
   "version": "3.12.7"
  }
 },
 "nbformat": 4,
 "nbformat_minor": 5
}

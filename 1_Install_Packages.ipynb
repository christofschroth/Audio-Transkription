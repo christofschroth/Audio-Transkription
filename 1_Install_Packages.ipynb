{
 "cells": [
  {
   "cell_type": "markdown",
   "id": "ff236d2b",
   "metadata": {},
   "source": [
    "# Packete installieren\n",
    "\n",
    "Die folgenden Befehle installieren Standard-Bibliotheken von Python.\n",
    "\n",
    "**Wichtig:** solange links [\\*] steht, warten bis er durchgerechnet hat.\n",
    "\n",
    "***Hinweis:*** die Installation muss nur einmalig erfolgen."
   ]
  },
  {
   "cell_type": "code",
   "execution_count": 3,
   "id": "829acec5",
   "metadata": {},
   "outputs": [
    {
     "name": "stdout",
     "output_type": "stream",
     "text": [
      "Requirement already satisfied: openai-whisper in c:\\users\\schroth\\appdata\\local\\anaconda3\\lib\\site-packages (20231117)Note: you may need to restart the kernel to use updated packages.\n",
      "\n",
      "Requirement already satisfied: tqdm in c:\\users\\schroth\\appdata\\local\\anaconda3\\lib\\site-packages (from openai-whisper) (4.64.1)\n",
      "Requirement already satisfied: torch in c:\\users\\schroth\\appdata\\local\\anaconda3\\lib\\site-packages (from openai-whisper) (1.12.1)\n",
      "Requirement already satisfied: more-itertools in c:\\users\\schroth\\appdata\\local\\anaconda3\\lib\\site-packages (from openai-whisper) (10.2.0)\n",
      "Requirement already satisfied: numpy in c:\\users\\schroth\\appdata\\local\\anaconda3\\lib\\site-packages (from openai-whisper) (1.23.5)\n",
      "Requirement already satisfied: tiktoken in c:\\users\\schroth\\appdata\\local\\anaconda3\\lib\\site-packages (from openai-whisper) (0.6.0)\n",
      "Requirement already satisfied: numba in c:\\users\\schroth\\appdata\\local\\anaconda3\\lib\\site-packages (from openai-whisper) (0.56.4)\n",
      "Requirement already satisfied: setuptools in c:\\users\\schroth\\appdata\\local\\anaconda3\\lib\\site-packages (from numba->openai-whisper) (65.6.3)\n",
      "Requirement already satisfied: llvmlite<0.40,>=0.39.0dev0 in c:\\users\\schroth\\appdata\\local\\anaconda3\\lib\\site-packages (from numba->openai-whisper) (0.39.1)\n",
      "Requirement already satisfied: requests>=2.26.0 in c:\\users\\schroth\\appdata\\local\\anaconda3\\lib\\site-packages (from tiktoken->openai-whisper) (2.28.1)\n",
      "Requirement already satisfied: regex>=2022.1.18 in c:\\users\\schroth\\appdata\\local\\anaconda3\\lib\\site-packages (from tiktoken->openai-whisper) (2022.7.9)\n",
      "Requirement already satisfied: typing_extensions in c:\\users\\schroth\\appdata\\local\\anaconda3\\lib\\site-packages (from torch->openai-whisper) (4.4.0)\n",
      "Requirement already satisfied: colorama in c:\\users\\schroth\\appdata\\local\\anaconda3\\lib\\site-packages (from tqdm->openai-whisper) (0.4.6)\n",
      "Requirement already satisfied: urllib3<1.27,>=1.21.1 in c:\\users\\schroth\\appdata\\local\\anaconda3\\lib\\site-packages (from requests>=2.26.0->tiktoken->openai-whisper) (1.26.14)\n",
      "Requirement already satisfied: charset-normalizer<3,>=2 in c:\\users\\schroth\\appdata\\local\\anaconda3\\lib\\site-packages (from requests>=2.26.0->tiktoken->openai-whisper) (2.0.4)\n",
      "Requirement already satisfied: idna<4,>=2.5 in c:\\users\\schroth\\appdata\\local\\anaconda3\\lib\\site-packages (from requests>=2.26.0->tiktoken->openai-whisper) (3.4)\n",
      "Requirement already satisfied: certifi>=2017.4.17 in c:\\users\\schroth\\appdata\\local\\anaconda3\\lib\\site-packages (from requests>=2.26.0->tiktoken->openai-whisper) (2023.5.7)\n"
     ]
    }
   ],
   "source": [
    "pip install openai-whisper"
   ]
  },
  {
   "cell_type": "code",
   "execution_count": 4,
   "id": "c6ec893a",
   "metadata": {},
   "outputs": [
    {
     "name": "stdout",
     "output_type": "stream",
     "text": [
      "Collecting pytictoc~=1.5.3\n",
      "  Using cached pytictoc-1.5.3-py2.py3-none-any.whl (4.0 kB)\n",
      "Installing collected packages: pytictoc\n",
      "  Attempting uninstall: pytictoc\n",
      "    Found existing installation: pytictoc 1.5.2\n",
      "    Uninstalling pytictoc-1.5.2:\n",
      "      Successfully uninstalled pytictoc-1.5.2\n",
      "Successfully installed pytictoc-1.5.3\n",
      "Note: you may need to restart the kernel to use updated packages.\n"
     ]
    }
   ],
   "source": [
    "pip install pytictoc~=1.5.3"
   ]
  },
  {
   "cell_type": "code",
   "execution_count": 5,
   "id": "c992cea4",
   "metadata": {},
   "outputs": [
    {
     "name": "stdout",
     "output_type": "stream",
     "text": [
      "Collecting python-docx\n",
      "  Using cached python_docx-1.1.2-py3-none-any.whl (244 kB)\n",
      "Collecting typing-extensions>=4.9.0\n",
      "  Using cached typing_extensions-4.12.2-py3-none-any.whl (37 kB)\n",
      "Requirement already satisfied: lxml>=3.1.0 in c:\\users\\schroth\\appdata\\local\\anaconda3\\lib\\site-packages (from python-docx) (4.9.1)\n",
      "Installing collected packages: typing-extensions, python-docx\n",
      "  Attempting uninstall: typing-extensions\n",
      "    Found existing installation: typing_extensions 4.4.0\n",
      "    Uninstalling typing_extensions-4.4.0:\n",
      "      Successfully uninstalled typing_extensions-4.4.0\n",
      "Successfully installed python-docx-1.1.2 typing-extensions-4.12.2\n",
      "Note: you may need to restart the kernel to use updated packages.\n"
     ]
    }
   ],
   "source": [
    "pip install python-docx"
   ]
  },
  {
   "cell_type": "code",
   "execution_count": 6,
   "id": "c51be8dc",
   "metadata": {
    "scrolled": true
   },
   "outputs": [
    {
     "name": "stdout",
     "output_type": "stream",
     "text": [
      "Collecting FreeSimpleGUI~=5.1.1\n",
      "  Using cached FreeSimpleGUI-5.1.1-py3-none-any.whl (720 kB)\n",
      "Installing collected packages: FreeSimpleGUI\n",
      "Successfully installed FreeSimpleGUI-5.1.1\n",
      "Note: you may need to restart the kernel to use updated packages.\n"
     ]
    }
   ],
   "source": [
    "pip install FreeSimpleGUI~=5.1.1"
   ]
  },
  {
   "cell_type": "markdown",
   "id": "1fbe85a5",
   "metadata": {},
   "source": [
    "Wenn sie keinen *error* erhalten, können Sie das Notebook nun schließen. Starten Sie nun Ihren Computer erneut."
   ]
  },
  {
   "cell_type": "code",
   "execution_count": null,
   "id": "f00c4cb9",
   "metadata": {},
   "outputs": [],
   "source": []
  }
 ],
 "metadata": {
  "kernelspec": {
   "display_name": "Python 3 (ipykernel)",
   "language": "python",
   "name": "python3"
  },
  "language_info": {
   "codemirror_mode": {
    "name": "ipython",
    "version": 3
   },
   "file_extension": ".py",
   "mimetype": "text/x-python",
   "name": "python",
   "nbconvert_exporter": "python",
   "pygments_lexer": "ipython3",
   "version": "3.10.9"
  }
 },
 "nbformat": 4,
 "nbformat_minor": 5
}

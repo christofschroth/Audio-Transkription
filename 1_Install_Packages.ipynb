{
 "cells": [
  {
   "cell_type": "markdown",
   "id": "ff236d2b",
   "metadata": {},
   "source": [
    "# Packete installieren\n",
    "\n",
    "Die folgenden Befehle installieren Standard-Bibliotheken von Python.\n",
    "\n",
    "<div class=\"alert alert-block alert-warning\"> <b>Wichtig:</b> solange links [*] steht, warten bis er durchgerechnet hat.\n",
    "</div>\n",
    "\n",
    "<div class=\"alert alert-block alert-info\"> <b>Hinweis:</b> \n",
    "    \n",
    "    - Stellen Sie sicher, dass der Rechner mit dem Internet verbunden ist. \n",
    "    \n",
    "    - die Installation muss nur einmalig erfolgen.\n",
    "</div>"
   ]
  },
  {
   "cell_type": "code",
   "execution_count": 1,
   "id": "829acec5",
   "metadata": {},
   "outputs": [
    {
     "name": "stdout",
     "output_type": "stream",
     "text": [
      "Collecting openai-whisper\n",
      "  Using cached openai_whisper-20240930-py3-none-any.whl\n",
      "Requirement already satisfied: numba in c:\\users\\christof\\appdata\\roaming\\python\\python312\\site-packages (from openai-whisper) (0.60.0)\n",
      "Requirement already satisfied: numpy in c:\\users\\christof\\appdata\\roaming\\python\\python312\\site-packages (from openai-whisper) (2.0.2)\n",
      "Requirement already satisfied: torch in c:\\users\\christof\\appdata\\roaming\\python\\python312\\site-packages (from openai-whisper) (2.5.1)\n",
      "Requirement already satisfied: tqdm in c:\\users\\christof\\miniforge3\\lib\\site-packages (from openai-whisper) (4.66.5)\n",
      "Requirement already satisfied: more-itertools in c:\\users\\christof\\appdata\\roaming\\python\\python312\\site-packages (from openai-whisper) (10.5.0)\n",
      "Requirement already satisfied: tiktoken in c:\\users\\christof\\appdata\\roaming\\python\\python312\\site-packages (from openai-whisper) (0.8.0)\n",
      "Requirement already satisfied: llvmlite<0.44,>=0.43.0dev0 in c:\\users\\christof\\appdata\\roaming\\python\\python312\\site-packages (from numba->openai-whisper) (0.43.0)\n",
      "Requirement already satisfied: regex>=2022.1.18 in c:\\users\\christof\\appdata\\roaming\\python\\python312\\site-packages (from tiktoken->openai-whisper) (2024.11.6)\n",
      "Requirement already satisfied: requests>=2.26.0 in c:\\users\\christof\\miniforge3\\lib\\site-packages (from tiktoken->openai-whisper) (2.32.3)\n",
      "Requirement already satisfied: filelock in c:\\users\\christof\\appdata\\roaming\\python\\python312\\site-packages (from torch->openai-whisper) (3.16.1)\n",
      "Requirement already satisfied: typing-extensions>=4.8.0 in c:\\users\\christof\\miniforge3\\lib\\site-packages (from torch->openai-whisper) (4.11.0)\n",
      "Requirement already satisfied: networkx in c:\\users\\christof\\appdata\\roaming\\python\\python312\\site-packages (from torch->openai-whisper) (3.4.2)\n",
      "Requirement already satisfied: jinja2 in c:\\users\\christof\\miniforge3\\lib\\site-packages (from torch->openai-whisper) (3.1.4)\n",
      "Requirement already satisfied: fsspec in c:\\users\\christof\\appdata\\roaming\\python\\python312\\site-packages (from torch->openai-whisper) (2024.10.0)\n",
      "Requirement already satisfied: setuptools in c:\\users\\christof\\miniforge3\\lib\\site-packages (from torch->openai-whisper) (75.1.0)\n",
      "Requirement already satisfied: sympy==1.13.1 in c:\\users\\christof\\appdata\\roaming\\python\\python312\\site-packages (from torch->openai-whisper) (1.13.1)\n",
      "Requirement already satisfied: mpmath<1.4,>=1.1.0 in c:\\users\\christof\\appdata\\roaming\\python\\python312\\site-packages (from sympy==1.13.1->torch->openai-whisper) (1.3.0)\n",
      "Requirement already satisfied: colorama in c:\\users\\christof\\miniforge3\\lib\\site-packages (from tqdm->openai-whisper) (0.4.6)\n",
      "Requirement already satisfied: charset-normalizer<4,>=2 in c:\\users\\christof\\miniforge3\\lib\\site-packages (from requests>=2.26.0->tiktoken->openai-whisper) (3.4.0)\n",
      "Requirement already satisfied: idna<4,>=2.5 in c:\\users\\christof\\miniforge3\\lib\\site-packages (from requests>=2.26.0->tiktoken->openai-whisper) (3.10)\n",
      "Requirement already satisfied: urllib3<3,>=1.21.1 in c:\\users\\christof\\miniforge3\\lib\\site-packages (from requests>=2.26.0->tiktoken->openai-whisper) (2.2.3)\n",
      "Requirement already satisfied: certifi>=2017.4.17 in c:\\users\\christof\\miniforge3\\lib\\site-packages (from requests>=2.26.0->tiktoken->openai-whisper) (2024.8.30)\n",
      "Requirement already satisfied: MarkupSafe>=2.0 in c:\\users\\christof\\miniforge3\\lib\\site-packages (from jinja2->torch->openai-whisper) (2.1.3)\n",
      "Installing collected packages: openai-whisper\n",
      "Successfully installed openai-whisper-20240930\n",
      "Note: you may need to restart the kernel to use updated packages.\n"
     ]
    }
   ],
   "source": [
    "pip install openai-whisper"
   ]
  },
  {
   "cell_type": "code",
   "execution_count": 2,
   "id": "c6ec893a",
   "metadata": {},
   "outputs": [
    {
     "name": "stdout",
     "output_type": "stream",
     "text": [
      "Collecting pytictoc\n",
      "  Using cached pytictoc-1.5.3-py2.py3-none-any.whl.metadata (2.9 kB)\n",
      "Using cached pytictoc-1.5.3-py2.py3-none-any.whl (4.0 kB)\n",
      "Installing collected packages: pytictoc\n",
      "Successfully installed pytictoc-1.5.3\n",
      "Note: you may need to restart the kernel to use updated packages.\n"
     ]
    }
   ],
   "source": [
    "pip install pytictoc"
   ]
  },
  {
   "cell_type": "code",
   "execution_count": 3,
   "id": "c992cea4",
   "metadata": {},
   "outputs": [
    {
     "name": "stdout",
     "output_type": "stream",
     "text": [
      "Collecting python-docx\n",
      "  Using cached python_docx-1.1.2-py3-none-any.whl.metadata (2.0 kB)\n",
      "Requirement already satisfied: lxml>=3.1.0 in c:\\users\\christof\\appdata\\roaming\\python\\python312\\site-packages (from python-docx) (5.3.0)\n",
      "Requirement already satisfied: typing-extensions>=4.9.0 in c:\\users\\christof\\miniforge3\\lib\\site-packages (from python-docx) (4.11.0)\n",
      "Using cached python_docx-1.1.2-py3-none-any.whl (244 kB)\n",
      "Installing collected packages: python-docx\n",
      "Successfully installed python-docx-1.1.2\n",
      "Note: you may need to restart the kernel to use updated packages.\n"
     ]
    }
   ],
   "source": [
    "pip install python-docx"
   ]
  },
  {
   "cell_type": "code",
   "execution_count": 4,
   "id": "c51be8dc",
   "metadata": {
    "scrolled": true
   },
   "outputs": [
    {
     "name": "stdout",
     "output_type": "stream",
     "text": [
      "Collecting FreeSimpleGUINote: you may need to restart the kernel to use updated packages.\n",
      "\n",
      "  Using cached FreeSimpleGUI-5.1.1-py3-none-any.whl.metadata (976 bytes)\n",
      "Using cached FreeSimpleGUI-5.1.1-py3-none-any.whl (720 kB)\n",
      "Installing collected packages: FreeSimpleGUI\n",
      "Successfully installed FreeSimpleGUI-5.1.1\n"
     ]
    }
   ],
   "source": [
    "pip install FreeSimpleGUI"
   ]
  },
  {
   "cell_type": "markdown",
   "id": "1fbe85a5",
   "metadata": {},
   "source": [
    "Wenn Sie keinen *error* erhalten, können Sie das Notebook nun schließen. Starten Sie nun Ihren Computer erneut."
   ]
  },
  {
   "cell_type": "code",
   "execution_count": null,
   "id": "f00c4cb9",
   "metadata": {},
   "outputs": [],
   "source": []
  }
 ],
 "metadata": {
  "kernelspec": {
   "display_name": "Python 3 (ipykernel)",
   "language": "python",
   "name": "python3"
  },
  "language_info": {
   "codemirror_mode": {
    "name": "ipython",
    "version": 3
   },
   "file_extension": ".py",
   "mimetype": "text/x-python",
   "name": "python",
   "nbconvert_exporter": "python",
   "pygments_lexer": "ipython3",
   "version": "3.12.7"
  }
 },
 "nbformat": 4,
 "nbformat_minor": 5
}

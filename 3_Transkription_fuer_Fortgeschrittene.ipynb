{
 "cells": [
  {
   "cell_type": "markdown",
   "id": "a2320430",
   "metadata": {},
   "source": [
    "# Audio-Dateien Transkribieren\n",
    "\n",
    "Mit diesem Code können Sie eine Audio-Datei transkribieren:\n",
    "\n",
    "- Schritt 1: User Input eingeben.\n",
    "- Schritt 2: Datei auswählen. Standardmäßig werden MP3-Dateien vorgeschlagen. Man kann bei der Dateiauswahl rechts unten weitere Datei-Endungen angeben.\n",
    "\n",
    "Die Word-Datei wird im gleichen Ordner unter dem gleichen Dateinamen wie die ursprüngliche Audio-Datei abgespeichert."
   ]
  },
  {
   "cell_type": "code",
   "execution_count": 1,
   "id": "df07968d",
   "metadata": {},
   "outputs": [],
   "source": [
    "# Import standard libraries\n",
    "from pathlib import Path\n",
    "import FreeSimpleGUI as sg\n",
    "from docx import Document\n",
    "import whisper\n",
    "from pytictoc import TicToc\n",
    "import warnings"
   ]
  },
  {
   "cell_type": "markdown",
   "id": "3eccfbd8",
   "metadata": {},
   "source": [
    "User Input:"
   ]
  },
  {
   "cell_type": "code",
   "execution_count": 2,
   "id": "84f833dc",
   "metadata": {},
   "outputs": [],
   "source": [
    "path_start = Path(r'C:\\Users\\schroth\\PycharmProjects\\AudioTranskriptionGerman')\n",
    "my_language = 'de'  # 'en', 'fr', 'de', etc.\n",
    "my_model = 'tiny'  # large, medium, small, base, tiny\n",
    "warnings.simplefilter(action='ignore', category=Warning)"
   ]
  },
  {
   "cell_type": "markdown",
   "id": "c785b7ca",
   "metadata": {},
   "source": [
    "Modell laden. Code nicht ändern:"
   ]
  },
  {
   "cell_type": "code",
   "execution_count": 4,
   "id": "22e12ff2",
   "metadata": {},
   "outputs": [
    {
     "name": "stdout",
     "output_type": "stream",
     "text": [
      "Lade Modell\n",
      "erfolgreich\n"
     ]
    }
   ],
   "source": [
    "print('Lade Modell')\n",
    "try:\n",
    "    whisper_model = whisper.load_model(my_model)\n",
    "except BufferError:\n",
    "    print('Modell laden fehlgeschlagen, kleineres Modell auswählen.')\n",
    "print('erfolgreich')"
   ]
  },
  {
   "cell_type": "markdown",
   "id": "be8aa874",
   "metadata": {},
   "source": [
    "Datei auswählen, Trankription.\n",
    "\n",
    "Code nicht abändern."
   ]
  },
  {
   "cell_type": "code",
   "execution_count": 6,
   "id": "740aec46",
   "metadata": {},
   "outputs": [
    {
     "name": "stdout",
     "output_type": "stream",
     "text": [
      "Starte Transkription\n",
      "erfolgreich\n",
      "Elapsed time is 85.255218 seconds.\n",
      "Word-Datei speichern\n",
      "erfolgreich\n",
      "Transkription beendet.\n"
     ]
    }
   ],
   "source": [
    "layout = [[sg.Input(key='_FILE_'),\n",
    "           sg.FileBrowse(file_types=((\"MP3\", \".mp3\"), (\"*\", \".*\")), button_text=\"Auswahl\", initial_folder=path_start)],\n",
    "          [sg.Button('OK'), sg.Button('Abbruch')]]\n",
    "window = sg.Window('Auswahl Audio-Datei', layout)\n",
    "event2, values2 = window.read()\n",
    "window.close()\n",
    "\n",
    "if event2 == 'OK':\n",
    "    t = TicToc()\n",
    "    t.tic()\n",
    "    print('Starte Transkription')\n",
    "    try:\n",
    "        result = whisper_model.transcribe(values2['_FILE_'], language=my_language, fp16=False)\n",
    "        print('erfolgreich')\n",
    "        t.toc()\n",
    "        # save file\n",
    "        print('Word-Datei speichern')\n",
    "        document = Document()\n",
    "        document.add_paragraph(result[\"text\"])\n",
    "        try:\n",
    "            document.save(str(Path(values2['_FILE_']).parent / Path(values2['_FILE_']).stem) + '.docx')\n",
    "            print('erfolgreich')\n",
    "            print('Transkription beendet.')\n",
    "        except PermissionError:\n",
    "            print(f'Datei speichern fehlgeschlagen. Möglicherweise ist die Datei  {Path(values2[\"_FILE_\"]).stem}.docx  noch geöffnet.')\n",
    "\n",
    "    except RuntimeError:\n",
    "        print('fehlgeschlagen, Dateiformat überprüfen')\n",
    "\n",
    "\n",
    "else:\n",
    "    print('Keine Datei ausgewählt, Vorgang wiederholen.')"
   ]
  },
  {
   "cell_type": "code",
   "execution_count": null,
   "id": "f06f6440",
   "metadata": {},
   "outputs": [],
   "source": []
  }
 ],
 "metadata": {
  "kernelspec": {
   "display_name": "Python 3 (ipykernel)",
   "language": "python",
   "name": "python3"
  },
  "language_info": {
   "codemirror_mode": {
    "name": "ipython",
    "version": 3
   },
   "file_extension": ".py",
   "mimetype": "text/x-python",
   "name": "python",
   "nbconvert_exporter": "python",
   "pygments_lexer": "ipython3",
   "version": "3.10.9"
  }
 },
 "nbformat": 4,
 "nbformat_minor": 5
}
